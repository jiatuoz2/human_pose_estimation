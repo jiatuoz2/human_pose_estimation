{
 "cells": [
  {
   "cell_type": "code",
   "execution_count": 19,
   "id": "0a05a280",
   "metadata": {},
   "outputs": [],
   "source": [
    "import calendar"
   ]
  },
  {
   "cell_type": "code",
   "execution_count": 25,
   "id": "05c4a5af",
   "metadata": {},
   "outputs": [
    {
     "name": "stdout",
     "output_type": "stream",
     "text": [
      "30\n"
     ]
    }
   ],
   "source": [
    "def Days(year, month):\n",
    "    c = calendar.Calendar()\n",
    "    days = c.monthdayscalendar(year, month)\n",
    "    return max(days[-1])\n",
    "\n",
    "print(Days(2023, 9))"
   ]
  },
  {
   "cell_type": "code",
   "execution_count": 28,
   "id": "4e8084f5",
   "metadata": {},
   "outputs": [
    {
     "name": "stdout",
     "output_type": "stream",
     "text": [
      "25\n"
     ]
    }
   ],
   "source": [
    "def num_leaps_since_1900(year):\n",
    "    num_leaps = 0\n",
    "    for i in range(1900, year + 1):\n",
    "        if Days(i, 2) == 29:\n",
    "            num_leaps += 1\n",
    "    return num_leaps\n",
    "\n",
    "print(num_leaps_since_1900(2000))"
   ]
  },
  {
   "cell_type": "code",
   "execution_count": 31,
   "id": "11df1bd6",
   "metadata": {},
   "outputs": [
    {
     "name": "stdout",
     "output_type": "stream",
     "text": [
      "Tuesday\n"
     ]
    }
   ],
   "source": [
    "def day_of_birthday(year, month, day):\n",
    "    c = calendar.Calendar()\n",
    "    month = c.monthdayscalendar(year, month)\n",
    "    for week in month:\n",
    "        for i in range(7):\n",
    "            if week[i] == day:\n",
    "                if i == 0:\n",
    "                    return \"Monday\"\n",
    "                if i == 1:\n",
    "                    return \"Tuesday\"\n",
    "                if i == 2:\n",
    "                    return \"Wednesday\"\n",
    "                if i == 3:\n",
    "                    return \"Thursday\"\n",
    "                if i == 4:\n",
    "                    return \"Friday\"\n",
    "                if i == 5:\n",
    "                    return \"Saturday\"\n",
    "                if i == 6:\n",
    "                    return \"Sunday\"\n",
    "    \n",
    "print(day_of_birthday(2001, 9, 18))"
   ]
  },
  {
   "cell_type": "code",
   "execution_count": 2,
   "id": "76a0b71d",
   "metadata": {},
   "outputs": [
    {
     "name": "stdout",
     "output_type": "stream",
     "text": [
      "-4\n"
     ]
    }
   ],
   "source": [
    "print(7//-2)"
   ]
  },
  {
   "cell_type": "code",
   "execution_count": 15,
   "id": "e343cfce",
   "metadata": {},
   "outputs": [
    {
     "data": {
      "text/plain": [
       "(1+2j)"
      ]
     },
     "execution_count": 15,
     "metadata": {},
     "output_type": "execute_result"
    }
   ],
   "source": [
    "1j + 1\n",
    "complex(1, 2)"
   ]
  },
  {
   "cell_type": "code",
   "execution_count": null,
   "id": "3dce0827",
   "metadata": {},
   "outputs": [],
   "source": []
  }
 ],
 "metadata": {
  "kernelspec": {
   "display_name": "Python 3 (ipykernel)",
   "language": "python",
   "name": "python3"
  },
  "language_info": {
   "codemirror_mode": {
    "name": "ipython",
    "version": 3
   },
   "file_extension": ".py",
   "mimetype": "text/x-python",
   "name": "python",
   "nbconvert_exporter": "python",
   "pygments_lexer": "ipython3",
   "version": "3.9.12"
  }
 },
 "nbformat": 4,
 "nbformat_minor": 5
}
